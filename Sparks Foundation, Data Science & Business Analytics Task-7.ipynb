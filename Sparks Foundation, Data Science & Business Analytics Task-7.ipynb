{
 "cells": [
  {
   "cell_type": "markdown",
   "id": "2fa3ee63",
   "metadata": {},
   "source": [
    "# Stock Market Prediction using Numerical and Textual Analysis\n",
    "\n",
    "\n",
    "## Problem Statement:\n",
    "Create a hybrid model for stock price/performance prediction using numerical analysis of historical stock prices, and sentimental analysis of news headlines\n",
    "## Credits:Saya Vamshi Krishna"
   ]
  },
  {
   "cell_type": "markdown",
   "id": "514b50ff",
   "metadata": {},
   "source": [
    "###  Step1:-- Importing Required Libraries"
   ]
  },
  {
   "cell_type": "code",
   "execution_count": 3,
   "id": "aa054461",
   "metadata": {},
   "outputs": [],
   "source": [
    "import pandas as pd\n",
    "import numpy as np\n",
    "import matplotlib.pyplot as plt\n",
    "import seaborn as sns\n",
    "\n",
    "import warnings\n",
    "warnings.filterwarnings('ignore')"
   ]
  },
  {
   "cell_type": "markdown",
   "id": "cae57cf5",
   "metadata": {},
   "source": [
    "### Step2:-- Importing the Data-Set"
   ]
  },
  {
   "cell_type": "code",
   "execution_count": 4,
   "id": "f7af3d0b",
   "metadata": {},
   "outputs": [],
   "source": [
    "news_df = pd.read_csv('india-news-headlines.csv')"
   ]
  },
  {
   "cell_type": "code",
   "execution_count": 5,
   "id": "d402ca74",
   "metadata": {},
   "outputs": [
    {
     "data": {
      "text/html": [
       "<div>\n",
       "<style scoped>\n",
       "    .dataframe tbody tr th:only-of-type {\n",
       "        vertical-align: middle;\n",
       "    }\n",
       "\n",
       "    .dataframe tbody tr th {\n",
       "        vertical-align: top;\n",
       "    }\n",
       "\n",
       "    .dataframe thead th {\n",
       "        text-align: right;\n",
       "    }\n",
       "</style>\n",
       "<table border=\"1\" class=\"dataframe\">\n",
       "  <thead>\n",
       "    <tr style=\"text-align: right;\">\n",
       "      <th></th>\n",
       "      <th>publish_date</th>\n",
       "      <th>headline_category</th>\n",
       "      <th>headline_text</th>\n",
       "    </tr>\n",
       "  </thead>\n",
       "  <tbody>\n",
       "    <tr>\n",
       "      <th>0</th>\n",
       "      <td>20010102</td>\n",
       "      <td>unknown</td>\n",
       "      <td>Status quo will not be disturbed at Ayodhya; s...</td>\n",
       "    </tr>\n",
       "    <tr>\n",
       "      <th>1</th>\n",
       "      <td>20010102</td>\n",
       "      <td>unknown</td>\n",
       "      <td>Fissures in Hurriyat over Pak visit</td>\n",
       "    </tr>\n",
       "    <tr>\n",
       "      <th>2</th>\n",
       "      <td>20010102</td>\n",
       "      <td>unknown</td>\n",
       "      <td>America's unwanted heading for India?</td>\n",
       "    </tr>\n",
       "    <tr>\n",
       "      <th>3</th>\n",
       "      <td>20010102</td>\n",
       "      <td>unknown</td>\n",
       "      <td>For bigwigs; it is destination Goa</td>\n",
       "    </tr>\n",
       "    <tr>\n",
       "      <th>4</th>\n",
       "      <td>20010102</td>\n",
       "      <td>unknown</td>\n",
       "      <td>Extra buses to clear tourist traffic</td>\n",
       "    </tr>\n",
       "  </tbody>\n",
       "</table>\n",
       "</div>"
      ],
      "text/plain": [
       "   publish_date headline_category  \\\n",
       "0      20010102           unknown   \n",
       "1      20010102           unknown   \n",
       "2      20010102           unknown   \n",
       "3      20010102           unknown   \n",
       "4      20010102           unknown   \n",
       "\n",
       "                                       headline_text  \n",
       "0  Status quo will not be disturbed at Ayodhya; s...  \n",
       "1                Fissures in Hurriyat over Pak visit  \n",
       "2              America's unwanted heading for India?  \n",
       "3                 For bigwigs; it is destination Goa  \n",
       "4               Extra buses to clear tourist traffic  "
      ]
     },
     "execution_count": 5,
     "metadata": {},
     "output_type": "execute_result"
    }
   ],
   "source": [
    "news_df.head()"
   ]
  },
  {
   "cell_type": "code",
   "execution_count": 6,
   "id": "d9ff686c",
   "metadata": {},
   "outputs": [
    {
     "name": "stdout",
     "output_type": "stream",
     "text": [
      "<class 'pandas.core.frame.DataFrame'>\n",
      "RangeIndex: 3650970 entries, 0 to 3650969\n",
      "Data columns (total 3 columns):\n",
      " #   Column             Dtype \n",
      "---  ------             ----- \n",
      " 0   publish_date       int64 \n",
      " 1   headline_category  object\n",
      " 2   headline_text      object\n",
      "dtypes: int64(1), object(2)\n",
      "memory usage: 83.6+ MB\n"
     ]
    }
   ],
   "source": [
    "news_df.info()"
   ]
  },
  {
   "cell_type": "code",
   "execution_count": 7,
   "id": "bf32aa20",
   "metadata": {},
   "outputs": [],
   "source": [
    "news_df['Date'] = pd.to_datetime(news_df['publish_date'], format = '%Y%m%d')\n",
    "news_df.drop('publish_date',axis = 1, inplace = True)"
   ]
  },
  {
   "cell_type": "code",
   "execution_count": 8,
   "id": "73ccae45",
   "metadata": {},
   "outputs": [
    {
     "name": "stdout",
     "output_type": "stream",
     "text": [
      "<class 'pandas.core.frame.DataFrame'>\n",
      "RangeIndex: 3650970 entries, 0 to 3650969\n",
      "Data columns (total 3 columns):\n",
      " #   Column             Dtype         \n",
      "---  ------             -----         \n",
      " 0   headline_category  object        \n",
      " 1   headline_text      object        \n",
      " 2   Date               datetime64[ns]\n",
      "dtypes: datetime64[ns](1), object(2)\n",
      "memory usage: 83.6+ MB\n"
     ]
    }
   ],
   "source": [
    "news_df.info()"
   ]
  },
  {
   "cell_type": "code",
   "execution_count": 9,
   "id": "c04819ec",
   "metadata": {},
   "outputs": [
    {
     "data": {
      "text/plain": [
       "headline_category    0\n",
       "headline_text        0\n",
       "Date                 0\n",
       "dtype: int64"
      ]
     },
     "execution_count": 9,
     "metadata": {},
     "output_type": "execute_result"
    }
   ],
   "source": [
    "news_df.isna().sum()"
   ]
  },
  {
   "cell_type": "code",
   "execution_count": 10,
   "id": "594d9ee7",
   "metadata": {},
   "outputs": [
    {
     "data": {
      "text/html": [
       "<div>\n",
       "<style scoped>\n",
       "    .dataframe tbody tr th:only-of-type {\n",
       "        vertical-align: middle;\n",
       "    }\n",
       "\n",
       "    .dataframe tbody tr th {\n",
       "        vertical-align: top;\n",
       "    }\n",
       "\n",
       "    .dataframe thead th {\n",
       "        text-align: right;\n",
       "    }\n",
       "</style>\n",
       "<table border=\"1\" class=\"dataframe\">\n",
       "  <thead>\n",
       "    <tr style=\"text-align: right;\">\n",
       "      <th></th>\n",
       "      <th>headline_category</th>\n",
       "      <th>headline_text</th>\n",
       "      <th>Date</th>\n",
       "    </tr>\n",
       "  </thead>\n",
       "  <tbody>\n",
       "    <tr>\n",
       "      <th>0</th>\n",
       "      <td>unknown</td>\n",
       "      <td>Status quo will not be disturbed at Ayodhya; s...</td>\n",
       "      <td>2001-01-02</td>\n",
       "    </tr>\n",
       "    <tr>\n",
       "      <th>1</th>\n",
       "      <td>unknown</td>\n",
       "      <td>Fissures in Hurriyat over Pak visit</td>\n",
       "      <td>2001-01-02</td>\n",
       "    </tr>\n",
       "    <tr>\n",
       "      <th>2</th>\n",
       "      <td>unknown</td>\n",
       "      <td>America's unwanted heading for India?</td>\n",
       "      <td>2001-01-02</td>\n",
       "    </tr>\n",
       "    <tr>\n",
       "      <th>3</th>\n",
       "      <td>unknown</td>\n",
       "      <td>For bigwigs; it is destination Goa</td>\n",
       "      <td>2001-01-02</td>\n",
       "    </tr>\n",
       "    <tr>\n",
       "      <th>4</th>\n",
       "      <td>unknown</td>\n",
       "      <td>Extra buses to clear tourist traffic</td>\n",
       "      <td>2001-01-02</td>\n",
       "    </tr>\n",
       "  </tbody>\n",
       "</table>\n",
       "</div>"
      ],
      "text/plain": [
       "  headline_category                                      headline_text  \\\n",
       "0           unknown  Status quo will not be disturbed at Ayodhya; s...   \n",
       "1           unknown                Fissures in Hurriyat over Pak visit   \n",
       "2           unknown              America's unwanted heading for India?   \n",
       "3           unknown                 For bigwigs; it is destination Goa   \n",
       "4           unknown               Extra buses to clear tourist traffic   \n",
       "\n",
       "        Date  \n",
       "0 2001-01-02  \n",
       "1 2001-01-02  \n",
       "2 2001-01-02  \n",
       "3 2001-01-02  \n",
       "4 2001-01-02  "
      ]
     },
     "execution_count": 10,
     "metadata": {},
     "output_type": "execute_result"
    }
   ],
   "source": [
    "news_df.head()"
   ]
  },
  {
   "cell_type": "code",
   "execution_count": 11,
   "id": "eedf3b41",
   "metadata": {},
   "outputs": [
    {
     "data": {
      "text/plain": [
       "0          Status quo will not be disturbed at Ayodhya  s...\n",
       "1                        Fissures in Hurriyat over Pak visit\n",
       "2                      America's unwanted heading for India \n",
       "3                         For bigwigs  it is destination Goa\n",
       "4                       Extra buses to clear tourist traffic\n",
       "                                 ...                        \n",
       "3650965    J K sacks   cops    other employees over terro...\n",
       "3650966    Ranbir Kapoor says 'Rishi Kapoor enjoyed his a...\n",
       "3650967    As Covid    cases drop to nil in southern dist...\n",
       "3650968    Tamil Nadu sees marginal rise of Covid cases w...\n",
       "3650969    Tamil Nadu sees marginal rise of Covid cases w...\n",
       "Name: headline_text, Length: 3650970, dtype: object"
      ]
     },
     "execution_count": 11,
     "metadata": {},
     "output_type": "execute_result"
    }
   ],
   "source": [
    "news_df.replace(\"[^a-zA-Z']\",\" \",regex=True,inplace=True)\n",
    "news_df['headline_text']"
   ]
  },
  {
   "cell_type": "code",
   "execution_count": 12,
   "id": "75b406ec",
   "metadata": {},
   "outputs": [],
   "source": [
    "from textblob import TextBlob\n",
    "from textblob.sentiments import NaiveBayesAnalyzer\n",
    "from sklearn.feature_extraction.text import TfidfVectorizer"
   ]
  },
  {
   "cell_type": "code",
   "execution_count": 13,
   "id": "f4aeb6e7",
   "metadata": {},
   "outputs": [
    {
     "name": "stdout",
     "output_type": "stream",
     "text": [
      "CPU times: user 2min 34s, sys: 1.39 s, total: 2min 35s\n",
      "Wall time: 2min 40s\n"
     ]
    }
   ],
   "source": [
    "%%time\n",
    "polarity = []\n",
    "subjectivity = []\n",
    "\n",
    "for headlines in news_df['headline_text']:\n",
    "    blob = TextBlob(headlines)\n",
    "    polarity.append(blob.sentiment.polarity)\n",
    "    subjectivity.append(blob.sentiment.subjectivity)"
   ]
  },
  {
   "cell_type": "code",
   "execution_count": 14,
   "id": "d7866b31",
   "metadata": {},
   "outputs": [],
   "source": [
    "news_df['polarity'] = polarity\n",
    "news_df['subjectivity'] = subjectivity"
   ]
  },
  {
   "cell_type": "code",
   "execution_count": 15,
   "id": "0f2922e0",
   "metadata": {},
   "outputs": [
    {
     "data": {
      "text/html": [
       "<div>\n",
       "<style scoped>\n",
       "    .dataframe tbody tr th:only-of-type {\n",
       "        vertical-align: middle;\n",
       "    }\n",
       "\n",
       "    .dataframe tbody tr th {\n",
       "        vertical-align: top;\n",
       "    }\n",
       "\n",
       "    .dataframe thead th {\n",
       "        text-align: right;\n",
       "    }\n",
       "</style>\n",
       "<table border=\"1\" class=\"dataframe\">\n",
       "  <thead>\n",
       "    <tr style=\"text-align: right;\">\n",
       "      <th></th>\n",
       "      <th>headline_category</th>\n",
       "      <th>headline_text</th>\n",
       "      <th>Date</th>\n",
       "      <th>polarity</th>\n",
       "      <th>subjectivity</th>\n",
       "    </tr>\n",
       "  </thead>\n",
       "  <tbody>\n",
       "    <tr>\n",
       "      <th>0</th>\n",
       "      <td>unknown</td>\n",
       "      <td>Status quo will not be disturbed at Ayodhya  s...</td>\n",
       "      <td>2001-01-02</td>\n",
       "      <td>0.0</td>\n",
       "      <td>0.0</td>\n",
       "    </tr>\n",
       "    <tr>\n",
       "      <th>1</th>\n",
       "      <td>unknown</td>\n",
       "      <td>Fissures in Hurriyat over Pak visit</td>\n",
       "      <td>2001-01-02</td>\n",
       "      <td>0.0</td>\n",
       "      <td>0.0</td>\n",
       "    </tr>\n",
       "    <tr>\n",
       "      <th>2</th>\n",
       "      <td>unknown</td>\n",
       "      <td>America's unwanted heading for India</td>\n",
       "      <td>2001-01-02</td>\n",
       "      <td>0.0</td>\n",
       "      <td>0.0</td>\n",
       "    </tr>\n",
       "  </tbody>\n",
       "</table>\n",
       "</div>"
      ],
      "text/plain": [
       "  headline_category                                      headline_text  \\\n",
       "0           unknown  Status quo will not be disturbed at Ayodhya  s...   \n",
       "1           unknown                Fissures in Hurriyat over Pak visit   \n",
       "2           unknown              America's unwanted heading for India    \n",
       "\n",
       "        Date  polarity  subjectivity  \n",
       "0 2001-01-02       0.0           0.0  \n",
       "1 2001-01-02       0.0           0.0  \n",
       "2 2001-01-02       0.0           0.0  "
      ]
     },
     "execution_count": 15,
     "metadata": {},
     "output_type": "execute_result"
    }
   ],
   "source": [
    "news_df.head(3)"
   ]
  },
  {
   "cell_type": "code",
   "execution_count": 16,
   "id": "9a4bfb63",
   "metadata": {},
   "outputs": [
    {
     "name": "stdout",
     "output_type": "stream",
     "text": [
      "Reviews with Negative Sentiment based on Polarity: 450031\n",
      "Reviews with Neutral Sentiment based on Polarity: 2481870\n",
      "Reviews with Positive Sentiment based on Polarity: 719069\n"
     ]
    }
   ],
   "source": [
    "print('Reviews with Negative Sentiment based on Polarity:', len(news_df[news_df['polarity'] < 0]))\n",
    "print('Reviews with Neutral Sentiment based on Polarity:', len(news_df[news_df['polarity'] == 0]))\n",
    "print('Reviews with Positive Sentiment based on Polarity:', len(news_df[news_df['polarity'] > 0]))"
   ]
  },
  {
   "cell_type": "code",
   "execution_count": 17,
   "id": "623988ab",
   "metadata": {},
   "outputs": [],
   "source": [
    "import nltk\n",
    "from nltk.sentiment.vader import SentimentIntensityAnalyzer"
   ]
  },
  {
   "cell_type": "code",
   "execution_count": 18,
   "id": "02b5b114",
   "metadata": {},
   "outputs": [],
   "source": [
    "#Adding sentiment score to news\n",
    "sentiment_int = SentimentIntensityAnalyzer()\n",
    "news_df['Compound'] = [sentiment_int.polarity_scores(v)['compound'] for v in news_df['headline_text']]"
   ]
  },
  {
   "cell_type": "code",
   "execution_count": 20,
   "id": "b0f5e4a1",
   "metadata": {},
   "outputs": [],
   "source": [
    "news_df['Negative'] = [sentiment_int.polarity_scores(v)['neg'] for v in news_df['headline_text']]"
   ]
  },
  {
   "cell_type": "code",
   "execution_count": 22,
   "id": "e8eb468f",
   "metadata": {},
   "outputs": [],
   "source": [
    "news_df['Neutral'] = [sentiment_int.polarity_scores(v)['neu'] for v in news_df['headline_text']]"
   ]
  },
  {
   "cell_type": "code",
   "execution_count": 23,
   "id": "ffa358d8",
   "metadata": {},
   "outputs": [],
   "source": [
    "news_df['Positive'] = [sentiment_int.polarity_scores(v)['pos'] for v in news_df['headline_text']]"
   ]
  },
  {
   "cell_type": "code",
   "execution_count": 24,
   "id": "8ec1c154",
   "metadata": {},
   "outputs": [
    {
     "data": {
      "text/html": [
       "<div>\n",
       "<style scoped>\n",
       "    .dataframe tbody tr th:only-of-type {\n",
       "        vertical-align: middle;\n",
       "    }\n",
       "\n",
       "    .dataframe tbody tr th {\n",
       "        vertical-align: top;\n",
       "    }\n",
       "\n",
       "    .dataframe thead th {\n",
       "        text-align: right;\n",
       "    }\n",
       "</style>\n",
       "<table border=\"1\" class=\"dataframe\">\n",
       "  <thead>\n",
       "    <tr style=\"text-align: right;\">\n",
       "      <th></th>\n",
       "      <th>headline_category</th>\n",
       "      <th>headline_text</th>\n",
       "      <th>Date</th>\n",
       "      <th>polarity</th>\n",
       "      <th>subjectivity</th>\n",
       "      <th>Compound</th>\n",
       "      <th>Negative</th>\n",
       "      <th>Neutral</th>\n",
       "      <th>Positive</th>\n",
       "    </tr>\n",
       "  </thead>\n",
       "  <tbody>\n",
       "    <tr>\n",
       "      <th>0</th>\n",
       "      <td>unknown</td>\n",
       "      <td>Status quo will not be disturbed at Ayodhya  s...</td>\n",
       "      <td>2001-01-02</td>\n",
       "      <td>0.00</td>\n",
       "      <td>0.000000</td>\n",
       "      <td>0.2924</td>\n",
       "      <td>0.000</td>\n",
       "      <td>0.805</td>\n",
       "      <td>0.195</td>\n",
       "    </tr>\n",
       "    <tr>\n",
       "      <th>1</th>\n",
       "      <td>unknown</td>\n",
       "      <td>Fissures in Hurriyat over Pak visit</td>\n",
       "      <td>2001-01-02</td>\n",
       "      <td>0.00</td>\n",
       "      <td>0.000000</td>\n",
       "      <td>0.0000</td>\n",
       "      <td>0.000</td>\n",
       "      <td>1.000</td>\n",
       "      <td>0.000</td>\n",
       "    </tr>\n",
       "    <tr>\n",
       "      <th>2</th>\n",
       "      <td>unknown</td>\n",
       "      <td>America's unwanted heading for India</td>\n",
       "      <td>2001-01-02</td>\n",
       "      <td>0.00</td>\n",
       "      <td>0.000000</td>\n",
       "      <td>-0.2263</td>\n",
       "      <td>0.322</td>\n",
       "      <td>0.678</td>\n",
       "      <td>0.000</td>\n",
       "    </tr>\n",
       "    <tr>\n",
       "      <th>3</th>\n",
       "      <td>unknown</td>\n",
       "      <td>For bigwigs  it is destination Goa</td>\n",
       "      <td>2001-01-02</td>\n",
       "      <td>0.00</td>\n",
       "      <td>0.000000</td>\n",
       "      <td>0.0000</td>\n",
       "      <td>0.000</td>\n",
       "      <td>1.000</td>\n",
       "      <td>0.000</td>\n",
       "    </tr>\n",
       "    <tr>\n",
       "      <th>4</th>\n",
       "      <td>unknown</td>\n",
       "      <td>Extra buses to clear tourist traffic</td>\n",
       "      <td>2001-01-02</td>\n",
       "      <td>0.05</td>\n",
       "      <td>0.241667</td>\n",
       "      <td>0.3818</td>\n",
       "      <td>0.000</td>\n",
       "      <td>0.658</td>\n",
       "      <td>0.342</td>\n",
       "    </tr>\n",
       "  </tbody>\n",
       "</table>\n",
       "</div>"
      ],
      "text/plain": [
       "  headline_category                                      headline_text  \\\n",
       "0           unknown  Status quo will not be disturbed at Ayodhya  s...   \n",
       "1           unknown                Fissures in Hurriyat over Pak visit   \n",
       "2           unknown              America's unwanted heading for India    \n",
       "3           unknown                 For bigwigs  it is destination Goa   \n",
       "4           unknown               Extra buses to clear tourist traffic   \n",
       "\n",
       "        Date  polarity  subjectivity  Compound  Negative  Neutral  Positive  \n",
       "0 2001-01-02      0.00      0.000000    0.2924     0.000    0.805     0.195  \n",
       "1 2001-01-02      0.00      0.000000    0.0000     0.000    1.000     0.000  \n",
       "2 2001-01-02      0.00      0.000000   -0.2263     0.322    0.678     0.000  \n",
       "3 2001-01-02      0.00      0.000000    0.0000     0.000    1.000     0.000  \n",
       "4 2001-01-02      0.05      0.241667    0.3818     0.000    0.658     0.342  "
      ]
     },
     "execution_count": 24,
     "metadata": {},
     "output_type": "execute_result"
    }
   ],
   "source": [
    "news_df.head()"
   ]
  },
  {
   "cell_type": "code",
   "execution_count": 25,
   "id": "e61c5153",
   "metadata": {},
   "outputs": [
    {
     "data": {
      "text/plain": [
       "<matplotlib.legend.Legend at 0x21c71da8cd0>"
      ]
     },
     "execution_count": 25,
     "metadata": {},
     "output_type": "execute_result"
    },
    {
     "data": {
      "image/png": "[encoded data removed]",
      "text/plain": [
       "<Figure size 1700x700 with 2 Axes>"
      ]
     },
     "metadata": {},
     "output_type": "display_data"
    }
   ],
   "source": [
    "# Plotting the Count and Proportional Distribution of reviews based on sentiment as per polarity\n",
    "plt.figure(figsize=(17, 7))\n",
    "plt.subplot(1, 2, 1)\n",
    "\n",
    "# Plotting the count of reviews for each sentiment\n",
    "plt.bar(['Negative', 'Neutral', 'Positive'], [len(news_df[news_df['polarity'] < 0]), len(news_df[news_df['polarity'] == 0]), \n",
    "                                              len(news_df[news_df['polarity'] > 0])], color='brown')\n",
    "plt.xlabel('Sentiment', fontsize=16)\n",
    "plt.ylabel('Number of headlines', fontsize=16)\n",
    "plt.title('Distribution of Sentiments based on Polarity', fontsize=18)\n",
    "\n",
    "plt.subplot(1, 2, 2)\n",
    "\n",
    "# Plotting the proportional distribution of sentiments\n",
    "plt.pie(x=[len(news_df[news_df['polarity'] < 0]), len(news_df[news_df['polarity'] == 0]),\n",
    "           len(news_df[news_df['polarity'] > 0])], \n",
    "        labels=['Negative', 'Neutral', 'Positive'], autopct='%1.1f%%', pctdistance=0.5,\n",
    "        textprops={'fontsize':15, 'color':'white'})\n",
    "plt.ylabel('Sentiments', fontsize=16)\n",
    "plt.title('Proportional Distribution of Sentiments', fontsize=18)\n",
    "plt.legend()"
   ]
  },
  {
   "cell_type": "markdown",
   "id": "0904fa9f",
   "metadata": {},
   "source": [
    "**Observations:**\n",
    "\n",
    "\n",
    "- 19.7% headlines are positive, while only 12.3% are negative.\n",
    "- The majority, 68.0%, have a neutral sentiment.\n",
    "- Neutral headlines dominate, suggesting balanced or less emotionally charged language overall.\n",
    "- Positive headlines are more frequent than negative ones.\n",
    "- This distribution indicates a trend toward neutral or positively framed news.."
   ]
  },
  {
   "cell_type": "markdown",
   "id": "86910680",
   "metadata": {},
   "source": [
    "# How are the Subjectivity values distributed for the Headlines?"
   ]
  },
  {
   "cell_type": "code",
   "execution_count": 26,
   "id": "3e6a158b",
   "metadata": {},
   "outputs": [
    {
     "data": {
      "text/plain": [
       "Text(0.5, 1.0, 'Distribution of Subjectivity Values')"
      ]
     },
     "execution_count": 26,
     "metadata": {},
     "output_type": "execute_result"
    },
    {
     "data": {
      "image/png": "[encoded data removed]",
      "text/plain": [
       "<Figure size 800x700 with 1 Axes>"
      ]
     },
     "metadata": {},
     "output_type": "display_data"
    }
   ],
   "source": [
    "plt.figure(figsize=(8, 7))\n",
    "news_df['subjectivity'].plot(kind='hist', color='blue', fontsize=13)\n",
    "plt.xlabel('Subjectivity', fontsize=16)\n",
    "plt.ylabel('Frequency', fontsize=16)\n",
    "plt.title('Distribution of Subjectivity Values', fontsize=18)"
   ]
  },
  {
   "cell_type": "markdown",
   "id": "f7416681",
   "metadata": {},
   "source": [
    "# Loading the Stock Data :"
   ]
  },
  {
   "cell_type": "code",
   "execution_count": 27,
   "id": "bb34ebd7",
   "metadata": {},
   "outputs": [],
   "source": [
    "import yfinance as yf"
   ]
  },
  {
   "cell_type": "code",
   "execution_count": 28,
   "id": "9e0f9f15",
   "metadata": {},
   "outputs": [
    {
     "name": "stdout",
     "output_type": "stream",
     "text": [
      "[*********************100%***********************]  1 of 1 completed\n"
     ]
    }
   ],
   "source": [
    "bse_df =yf.download('^BSESN', start='2016-01-04', end='2020-07-30')"
   ]
  },
  {
   "cell_type": "code",
   "execution_count": 29,
   "id": "db32071a",
   "metadata": {},
   "outputs": [
    {
     "data": {
      "text/plain": [
       "(1122, 6)"
      ]
     },
     "execution_count": 29,
     "metadata": {},
     "output_type": "execute_result"
    }
   ],
   "source": [
    "#checking the shape of the bse data\n",
    "bse_df.shape"
   ]
  },
  {
   "cell_type": "code",
   "execution_count": 30,
   "id": "bd79ce31",
   "metadata": {},
   "outputs": [
    {
     "data": {
      "text/html": [
       "<div>\n",
       "<style scoped>\n",
       "    .dataframe tbody tr th:only-of-type {\n",
       "        vertical-align: middle;\n",
       "    }\n",
       "\n",
       "    .dataframe tbody tr th {\n",
       "        vertical-align: top;\n",
       "    }\n",
       "\n",
       "    .dataframe thead th {\n",
       "        text-align: right;\n",
       "    }\n",
       "</style>\n",
       "<table border=\"1\" class=\"dataframe\">\n",
       "  <thead>\n",
       "    <tr style=\"text-align: right;\">\n",
       "      <th></th>\n",
       "      <th>Open</th>\n",
       "      <th>High</th>\n",
       "      <th>Low</th>\n",
       "      <th>Close</th>\n",
       "      <th>Adj Close</th>\n",
       "      <th>Volume</th>\n",
       "    </tr>\n",
       "    <tr>\n",
       "      <th>Date</th>\n",
       "      <th></th>\n",
       "      <th></th>\n",
       "      <th></th>\n",
       "      <th></th>\n",
       "      <th></th>\n",
       "      <th></th>\n",
       "    </tr>\n",
       "  </thead>\n",
       "  <tbody>\n",
       "    <tr>\n",
       "      <th>2016-01-04</th>\n",
       "      <td>26116.519531</td>\n",
       "      <td>26116.519531</td>\n",
       "      <td>25596.570312</td>\n",
       "      <td>25623.349609</td>\n",
       "      <td>25623.349609</td>\n",
       "      <td>9100</td>\n",
       "    </tr>\n",
       "    <tr>\n",
       "      <th>2016-01-05</th>\n",
       "      <td>25744.699219</td>\n",
       "      <td>25766.759766</td>\n",
       "      <td>25513.750000</td>\n",
       "      <td>25580.339844</td>\n",
       "      <td>25580.339844</td>\n",
       "      <td>10300</td>\n",
       "    </tr>\n",
       "    <tr>\n",
       "      <th>2016-01-06</th>\n",
       "      <td>25628.230469</td>\n",
       "      <td>25632.570312</td>\n",
       "      <td>25357.699219</td>\n",
       "      <td>25406.330078</td>\n",
       "      <td>25406.330078</td>\n",
       "      <td>13400</td>\n",
       "    </tr>\n",
       "    <tr>\n",
       "      <th>2016-01-07</th>\n",
       "      <td>25224.699219</td>\n",
       "      <td>25230.349609</td>\n",
       "      <td>24825.699219</td>\n",
       "      <td>24851.830078</td>\n",
       "      <td>24851.830078</td>\n",
       "      <td>11800</td>\n",
       "    </tr>\n",
       "    <tr>\n",
       "      <th>2016-01-08</th>\n",
       "      <td>24969.019531</td>\n",
       "      <td>25083.550781</td>\n",
       "      <td>24887.220703</td>\n",
       "      <td>24934.330078</td>\n",
       "      <td>24934.330078</td>\n",
       "      <td>15900</td>\n",
       "    </tr>\n",
       "  </tbody>\n",
       "</table>\n",
       "</div>"
      ],
      "text/plain": [
       "                    Open          High           Low         Close  \\\n",
       "Date                                                                 \n",
       "2016-01-04  26116.519531  26116.519531  25596.570312  25623.349609   \n",
       "2016-01-05  25744.699219  25766.759766  25513.750000  25580.339844   \n",
       "2016-01-06  25628.230469  25632.570312  25357.699219  25406.330078   \n",
       "2016-01-07  25224.699219  25230.349609  24825.699219  24851.830078   \n",
       "2016-01-08  24969.019531  25083.550781  24887.220703  24934.330078   \n",
       "\n",
       "               Adj Close  Volume  \n",
       "Date                              \n",
       "2016-01-04  25623.349609    9100  \n",
       "2016-01-05  25580.339844   10300  \n",
       "2016-01-06  25406.330078   13400  \n",
       "2016-01-07  24851.830078   11800  \n",
       "2016-01-08  24934.330078   15900  "
      ]
     },
     "execution_count": 30,
     "metadata": {},
     "output_type": "execute_result"
    }
   ],
   "source": [
    "bse_df.head()"
   ]
  },
  {
   "cell_type": "markdown",
   "id": "dfabb0ed",
   "metadata": {},
   "source": [
    "# Data Information :"
   ]
  },
  {
   "cell_type": "code",
   "execution_count": 31,
   "id": "05982778",
   "metadata": {},
   "outputs": [
    {
     "name": "stdout",
     "output_type": "stream",
     "text": [
      "<class 'pandas.core.frame.DataFrame'>\n",
      "DatetimeIndex: 1122 entries, 2016-01-04 to 2020-07-29\n",
      "Data columns (total 6 columns):\n",
      " #   Column     Non-Null Count  Dtype  \n",
      "---  ------     --------------  -----  \n",
      " 0   Open       1122 non-null   float64\n",
      " 1   High       1122 non-null   float64\n",
      " 2   Low        1122 non-null   float64\n",
      " 3   Close      1122 non-null   float64\n",
      " 4   Adj Close  1122 non-null   float64\n",
      " 5   Volume     1122 non-null   int64  \n",
      "dtypes: float64(5), int64(1)\n",
      "memory usage: 61.4 KB\n"
     ]
    }
   ],
   "source": [
    "bse_df.info()"
   ]
  },
  {
   "cell_type": "code",
   "execution_count": 32,
   "id": "1bde758d",
   "metadata": {},
   "outputs": [
    {
     "data": {
      "text/html": [
       "<div>\n",
       "<style scoped>\n",
       "    .dataframe tbody tr th:only-of-type {\n",
       "        vertical-align: middle;\n",
       "    }\n",
       "\n",
       "    .dataframe tbody tr th {\n",
       "        vertical-align: top;\n",
       "    }\n",
       "\n",
       "    .dataframe thead th {\n",
       "        text-align: right;\n",
       "    }\n",
       "</style>\n",
       "<table border=\"1\" class=\"dataframe\">\n",
       "  <thead>\n",
       "    <tr style=\"text-align: right;\">\n",
       "      <th></th>\n",
       "      <th>Close</th>\n",
       "    </tr>\n",
       "    <tr>\n",
       "      <th>Date</th>\n",
       "      <th></th>\n",
       "    </tr>\n",
       "  </thead>\n",
       "  <tbody>\n",
       "    <tr>\n",
       "      <th>2016-01-04</th>\n",
       "      <td>25623.349609</td>\n",
       "    </tr>\n",
       "    <tr>\n",
       "      <th>2016-01-05</th>\n",
       "      <td>25580.339844</td>\n",
       "    </tr>\n",
       "    <tr>\n",
       "      <th>2016-01-06</th>\n",
       "      <td>25406.330078</td>\n",
       "    </tr>\n",
       "    <tr>\n",
       "      <th>2016-01-07</th>\n",
       "      <td>24851.830078</td>\n",
       "    </tr>\n",
       "    <tr>\n",
       "      <th>2016-01-08</th>\n",
       "      <td>24934.330078</td>\n",
       "    </tr>\n",
       "    <tr>\n",
       "      <th>...</th>\n",
       "      <td>...</td>\n",
       "    </tr>\n",
       "    <tr>\n",
       "      <th>2020-07-23</th>\n",
       "      <td>38140.468750</td>\n",
       "    </tr>\n",
       "    <tr>\n",
       "      <th>2020-07-24</th>\n",
       "      <td>38128.898438</td>\n",
       "    </tr>\n",
       "    <tr>\n",
       "      <th>2020-07-27</th>\n",
       "      <td>37934.730469</td>\n",
       "    </tr>\n",
       "    <tr>\n",
       "      <th>2020-07-28</th>\n",
       "      <td>38492.949219</td>\n",
       "    </tr>\n",
       "    <tr>\n",
       "      <th>2020-07-29</th>\n",
       "      <td>38071.128906</td>\n",
       "    </tr>\n",
       "  </tbody>\n",
       "</table>\n",
       "<p>1122 rows × 1 columns</p>\n",
       "</div>"
      ],
      "text/plain": [
       "                   Close\n",
       "Date                    \n",
       "2016-01-04  25623.349609\n",
       "2016-01-05  25580.339844\n",
       "2016-01-06  25406.330078\n",
       "2016-01-07  24851.830078\n",
       "2016-01-08  24934.330078\n",
       "...                  ...\n",
       "2020-07-23  38140.468750\n",
       "2020-07-24  38128.898438\n",
       "2020-07-27  37934.730469\n",
       "2020-07-28  38492.949219\n",
       "2020-07-29  38071.128906\n",
       "\n",
       "[1122 rows x 1 columns]"
      ]
     },
     "execution_count": 32,
     "metadata": {},
     "output_type": "execute_result"
    }
   ],
   "source": [
    "bse_df = bse_df[['Close']]\n",
    "bse_df"
   ]
  },
  {
   "cell_type": "markdown",
   "id": "3bd4b7b1",
   "metadata": {},
   "source": [
    "# EDA :"
   ]
  },
  {
   "cell_type": "code",
   "execution_count": 33,
   "id": "f3016dbb",
   "metadata": {},
   "outputs": [
    {
     "data": {
      "text/plain": [
       "<AxesSubplot:xlabel='Date', ylabel='Close'>"
      ]
     },
     "execution_count": 33,
     "metadata": {},
     "output_type": "execute_result"
    },
    {
     "data": {
      "image/png": "[encoded data removed]",
      "text/plain": [
       "<Figure size 1000x600 with 1 Axes>"
      ]
     },
     "metadata": {},
     "output_type": "display_data"
    }
   ],
   "source": [
    "#Plotting the closing price\n",
    "\n",
    "index = bse_df.index\n",
    "\n",
    "plt.figure(figsize = (10,6))\n",
    "sns.lineplot(x = index, y = bse_df['Close'])"
   ]
  },
  {
   "cell_type": "markdown",
   "id": "9d1d6f58",
   "metadata": {},
   "source": [
    "# Data Preprocessing :"
   ]
  },
  {
   "cell_type": "code",
   "execution_count": 34,
   "id": "5f6cb36c",
   "metadata": {},
   "outputs": [],
   "source": [
    "from sklearn.preprocessing import MinMaxScaler\n",
    "scaler = MinMaxScaler()\n",
    "\n",
    "scaled_data = scaler.fit_transform(bse_df)"
   ]
  },
  {
   "cell_type": "code",
   "execution_count": 35,
   "id": "1a363cb3",
   "metadata": {},
   "outputs": [],
   "source": [
    "#Splitting the data\n",
    "\n",
    "train = 0.8\n",
    "len_train_data = round(len(bse_df) * train)\n",
    "\n",
    "train_data = scaled_data[0 : len_train_data]\n",
    "test_data = scaled_data[len_train_data :]"
   ]
  },
  {
   "cell_type": "code",
   "execution_count": 36,
   "id": "2990ed94",
   "metadata": {},
   "outputs": [
    {
     "data": {
      "text/plain": [
       "((898, 1), (224, 1))"
      ]
     },
     "execution_count": 36,
     "metadata": {},
     "output_type": "execute_result"
    }
   ],
   "source": [
    "# The shape of training data and testing data\n",
    "\n",
    "train_data.shape, test_data.shape"
   ]
  },
  {
   "cell_type": "code",
   "execution_count": 37,
   "id": "51ceff6f",
   "metadata": {},
   "outputs": [],
   "source": [
    "def feature_extraction(data, start, end):\n",
    "    x_train = []\n",
    "    y_train=[]\n",
    "    for i in range(start,end):\n",
    "        x_train.append(data[i-50:i])\n",
    "        y_train.append(data[i])\n",
    "    return x_train, y_train"
   ]
  },
  {
   "cell_type": "code",
   "execution_count": 38,
   "id": "cd6a284d",
   "metadata": {},
   "outputs": [],
   "source": [
    "#Creating training data\n",
    "\n",
    "x_train, y_train = feature_extraction(train_data, 50, len(train_data))\n",
    "\n",
    "#creating testing data\n",
    "\n",
    "x_test,y_test = feature_extraction(test_data, 50, len(test_data))"
   ]
  },
  {
   "cell_type": "code",
   "execution_count": 39,
   "id": "3cb567a8",
   "metadata": {},
   "outputs": [],
   "source": [
    "#Converting the list to numpy array\n",
    "\n",
    "#Training data\n",
    "\n",
    "x_train = np.array(x_train)\n",
    "y_train = np.array(y_train)\n",
    "\n",
    "#Testing data\n",
    "x_test = np.array(x_test)\n",
    "y_test = np.array(y_test)"
   ]
  },
  {
   "cell_type": "code",
   "execution_count": 40,
   "id": "a55c9bf1",
   "metadata": {},
   "outputs": [
    {
     "name": "stdout",
     "output_type": "stream",
     "text": [
      "(848, 50, 1)\n",
      "(174, 50, 1)\n",
      "(848, 1)\n",
      "(174, 1)\n"
     ]
    }
   ],
   "source": [
    "print(x_train.shape)\n",
    "print(x_test.shape)\n",
    "print(y_train.shape)\n",
    "print(y_test.shape)"
   ]
  },
  {
   "cell_type": "code",
   "execution_count": 41,
   "id": "f6212ea9",
   "metadata": {},
   "outputs": [
    {
     "data": {
      "text/html": [
       "<div>\n",
       "<style scoped>\n",
       "    .dataframe tbody tr th:only-of-type {\n",
       "        vertical-align: middle;\n",
       "    }\n",
       "\n",
       "    .dataframe tbody tr th {\n",
       "        vertical-align: top;\n",
       "    }\n",
       "\n",
       "    .dataframe thead th {\n",
       "        text-align: right;\n",
       "    }\n",
       "</style>\n",
       "<table border=\"1\" class=\"dataframe\">\n",
       "  <thead>\n",
       "    <tr style=\"text-align: right;\">\n",
       "      <th></th>\n",
       "      <th>0</th>\n",
       "      <th>1</th>\n",
       "      <th>2</th>\n",
       "      <th>3</th>\n",
       "      <th>4</th>\n",
       "      <th>5</th>\n",
       "      <th>6</th>\n",
       "      <th>7</th>\n",
       "      <th>8</th>\n",
       "      <th>9</th>\n",
       "      <th>...</th>\n",
       "      <th>41</th>\n",
       "      <th>42</th>\n",
       "      <th>43</th>\n",
       "      <th>44</th>\n",
       "      <th>45</th>\n",
       "      <th>46</th>\n",
       "      <th>47</th>\n",
       "      <th>48</th>\n",
       "      <th>49</th>\n",
       "      <th>target</th>\n",
       "    </tr>\n",
       "  </thead>\n",
       "  <tbody>\n",
       "    <tr>\n",
       "      <th>0</th>\n",
       "      <td>25623.349609</td>\n",
       "      <td>25580.339844</td>\n",
       "      <td>25406.330078</td>\n",
       "      <td>24851.830078</td>\n",
       "      <td>24934.330078</td>\n",
       "      <td>24825.039062</td>\n",
       "      <td>24682.029297</td>\n",
       "      <td>24854.109375</td>\n",
       "      <td>24772.970703</td>\n",
       "      <td>24455.039062</td>\n",
       "      <td>...</td>\n",
       "      <td>24242.980469</td>\n",
       "      <td>24606.990234</td>\n",
       "      <td>24646.480469</td>\n",
       "      <td>24659.230469</td>\n",
       "      <td>24793.960938</td>\n",
       "      <td>24623.339844</td>\n",
       "      <td>24717.990234</td>\n",
       "      <td>24804.279297</td>\n",
       "      <td>24551.169922</td>\n",
       "      <td>24682.480469</td>\n",
       "    </tr>\n",
       "    <tr>\n",
       "      <th>1</th>\n",
       "      <td>25580.339844</td>\n",
       "      <td>25406.330078</td>\n",
       "      <td>24851.830078</td>\n",
       "      <td>24934.330078</td>\n",
       "      <td>24825.039062</td>\n",
       "      <td>24682.029297</td>\n",
       "      <td>24854.109375</td>\n",
       "      <td>24772.970703</td>\n",
       "      <td>24455.039062</td>\n",
       "      <td>24188.369141</td>\n",
       "      <td>...</td>\n",
       "      <td>24606.990234</td>\n",
       "      <td>24646.480469</td>\n",
       "      <td>24659.230469</td>\n",
       "      <td>24793.960938</td>\n",
       "      <td>24623.339844</td>\n",
       "      <td>24717.990234</td>\n",
       "      <td>24804.279297</td>\n",
       "      <td>24551.169922</td>\n",
       "      <td>24682.480469</td>\n",
       "      <td>24677.369141</td>\n",
       "    </tr>\n",
       "    <tr>\n",
       "      <th>2</th>\n",
       "      <td>25406.330078</td>\n",
       "      <td>24851.830078</td>\n",
       "      <td>24934.330078</td>\n",
       "      <td>24825.039062</td>\n",
       "      <td>24682.029297</td>\n",
       "      <td>24854.109375</td>\n",
       "      <td>24772.970703</td>\n",
       "      <td>24455.039062</td>\n",
       "      <td>24188.369141</td>\n",
       "      <td>24479.839844</td>\n",
       "      <td>...</td>\n",
       "      <td>24646.480469</td>\n",
       "      <td>24659.230469</td>\n",
       "      <td>24793.960938</td>\n",
       "      <td>24623.339844</td>\n",
       "      <td>24717.990234</td>\n",
       "      <td>24804.279297</td>\n",
       "      <td>24551.169922</td>\n",
       "      <td>24682.480469</td>\n",
       "      <td>24677.369141</td>\n",
       "      <td>24952.740234</td>\n",
       "    </tr>\n",
       "    <tr>\n",
       "      <th>3</th>\n",
       "      <td>24851.830078</td>\n",
       "      <td>24934.330078</td>\n",
       "      <td>24825.039062</td>\n",
       "      <td>24682.029297</td>\n",
       "      <td>24854.109375</td>\n",
       "      <td>24772.970703</td>\n",
       "      <td>24455.039062</td>\n",
       "      <td>24188.369141</td>\n",
       "      <td>24479.839844</td>\n",
       "      <td>24062.039063</td>\n",
       "      <td>...</td>\n",
       "      <td>24659.230469</td>\n",
       "      <td>24793.960938</td>\n",
       "      <td>24623.339844</td>\n",
       "      <td>24717.990234</td>\n",
       "      <td>24804.279297</td>\n",
       "      <td>24551.169922</td>\n",
       "      <td>24682.480469</td>\n",
       "      <td>24677.369141</td>\n",
       "      <td>24952.740234</td>\n",
       "      <td>25285.369141</td>\n",
       "    </tr>\n",
       "    <tr>\n",
       "      <th>4</th>\n",
       "      <td>24934.330078</td>\n",
       "      <td>24825.039062</td>\n",
       "      <td>24682.029297</td>\n",
       "      <td>24854.109375</td>\n",
       "      <td>24772.970703</td>\n",
       "      <td>24455.039062</td>\n",
       "      <td>24188.369141</td>\n",
       "      <td>24479.839844</td>\n",
       "      <td>24062.039063</td>\n",
       "      <td>23962.210937</td>\n",
       "      <td>...</td>\n",
       "      <td>24793.960938</td>\n",
       "      <td>24623.339844</td>\n",
       "      <td>24717.990234</td>\n",
       "      <td>24804.279297</td>\n",
       "      <td>24551.169922</td>\n",
       "      <td>24682.480469</td>\n",
       "      <td>24677.369141</td>\n",
       "      <td>24952.740234</td>\n",
       "      <td>25285.369141</td>\n",
       "      <td>25330.490234</td>\n",
       "    </tr>\n",
       "    <tr>\n",
       "      <th>...</th>\n",
       "      <td>...</td>\n",
       "      <td>...</td>\n",
       "      <td>...</td>\n",
       "      <td>...</td>\n",
       "      <td>...</td>\n",
       "      <td>...</td>\n",
       "      <td>...</td>\n",
       "      <td>...</td>\n",
       "      <td>...</td>\n",
       "      <td>...</td>\n",
       "      <td>...</td>\n",
       "      <td>...</td>\n",
       "      <td>...</td>\n",
       "      <td>...</td>\n",
       "      <td>...</td>\n",
       "      <td>...</td>\n",
       "      <td>...</td>\n",
       "      <td>...</td>\n",
       "      <td>...</td>\n",
       "      <td>...</td>\n",
       "      <td>...</td>\n",
       "    </tr>\n",
       "    <tr>\n",
       "      <th>843</th>\n",
       "      <td>39784.519531</td>\n",
       "      <td>39950.460937</td>\n",
       "      <td>39756.808594</td>\n",
       "      <td>39741.359375</td>\n",
       "      <td>39452.070312</td>\n",
       "      <td>38960.789062</td>\n",
       "      <td>39046.339844</td>\n",
       "      <td>39112.738281</td>\n",
       "      <td>39601.628906</td>\n",
       "      <td>39194.488281</td>\n",
       "      <td>...</td>\n",
       "      <td>36976.851562</td>\n",
       "      <td>36690.500000</td>\n",
       "      <td>37327.359375</td>\n",
       "      <td>37581.910156</td>\n",
       "      <td>36958.160156</td>\n",
       "      <td>37311.531250</td>\n",
       "      <td>37350.328125</td>\n",
       "      <td>37402.488281</td>\n",
       "      <td>37328.011719</td>\n",
       "      <td>37060.371094</td>\n",
       "    </tr>\n",
       "    <tr>\n",
       "      <th>844</th>\n",
       "      <td>39950.460937</td>\n",
       "      <td>39756.808594</td>\n",
       "      <td>39741.359375</td>\n",
       "      <td>39452.070312</td>\n",
       "      <td>38960.789062</td>\n",
       "      <td>39046.339844</td>\n",
       "      <td>39112.738281</td>\n",
       "      <td>39601.628906</td>\n",
       "      <td>39194.488281</td>\n",
       "      <td>39122.960938</td>\n",
       "      <td>...</td>\n",
       "      <td>36690.500000</td>\n",
       "      <td>37327.359375</td>\n",
       "      <td>37581.910156</td>\n",
       "      <td>36958.160156</td>\n",
       "      <td>37311.531250</td>\n",
       "      <td>37350.328125</td>\n",
       "      <td>37402.488281</td>\n",
       "      <td>37328.011719</td>\n",
       "      <td>37060.371094</td>\n",
       "      <td>36472.929688</td>\n",
       "    </tr>\n",
       "    <tr>\n",
       "      <th>845</th>\n",
       "      <td>39756.808594</td>\n",
       "      <td>39741.359375</td>\n",
       "      <td>39452.070312</td>\n",
       "      <td>38960.789062</td>\n",
       "      <td>39046.339844</td>\n",
       "      <td>39112.738281</td>\n",
       "      <td>39601.628906</td>\n",
       "      <td>39194.488281</td>\n",
       "      <td>39122.960938</td>\n",
       "      <td>39434.941406</td>\n",
       "      <td>...</td>\n",
       "      <td>37327.359375</td>\n",
       "      <td>37581.910156</td>\n",
       "      <td>36958.160156</td>\n",
       "      <td>37311.531250</td>\n",
       "      <td>37350.328125</td>\n",
       "      <td>37402.488281</td>\n",
       "      <td>37328.011719</td>\n",
       "      <td>37060.371094</td>\n",
       "      <td>36472.929688</td>\n",
       "      <td>36701.160156</td>\n",
       "    </tr>\n",
       "    <tr>\n",
       "      <th>846</th>\n",
       "      <td>39741.359375</td>\n",
       "      <td>39452.070312</td>\n",
       "      <td>38960.789062</td>\n",
       "      <td>39046.339844</td>\n",
       "      <td>39112.738281</td>\n",
       "      <td>39601.628906</td>\n",
       "      <td>39194.488281</td>\n",
       "      <td>39122.960938</td>\n",
       "      <td>39434.941406</td>\n",
       "      <td>39592.078125</td>\n",
       "      <td>...</td>\n",
       "      <td>37581.910156</td>\n",
       "      <td>36958.160156</td>\n",
       "      <td>37311.531250</td>\n",
       "      <td>37350.328125</td>\n",
       "      <td>37402.488281</td>\n",
       "      <td>37328.011719</td>\n",
       "      <td>37060.371094</td>\n",
       "      <td>36472.929688</td>\n",
       "      <td>36701.160156</td>\n",
       "      <td>37494.121094</td>\n",
       "    </tr>\n",
       "    <tr>\n",
       "      <th>847</th>\n",
       "      <td>39452.070312</td>\n",
       "      <td>38960.789062</td>\n",
       "      <td>39046.339844</td>\n",
       "      <td>39112.738281</td>\n",
       "      <td>39601.628906</td>\n",
       "      <td>39194.488281</td>\n",
       "      <td>39122.960938</td>\n",
       "      <td>39434.941406</td>\n",
       "      <td>39592.078125</td>\n",
       "      <td>39586.410156</td>\n",
       "      <td>...</td>\n",
       "      <td>36958.160156</td>\n",
       "      <td>37311.531250</td>\n",
       "      <td>37350.328125</td>\n",
       "      <td>37402.488281</td>\n",
       "      <td>37328.011719</td>\n",
       "      <td>37060.371094</td>\n",
       "      <td>36472.929688</td>\n",
       "      <td>36701.160156</td>\n",
       "      <td>37494.121094</td>\n",
       "      <td>37641.269531</td>\n",
       "    </tr>\n",
       "  </tbody>\n",
       "</table>\n",
       "<p>848 rows × 51 columns</p>\n",
       "</div>"
      ],
      "text/plain": [
       "                0             1             2             3             4  \\\n",
       "0    25623.349609  25580.339844  25406.330078  24851.830078  24934.330078   \n",
       "1    25580.339844  25406.330078  24851.830078  24934.330078  24825.039062   \n",
       "2    25406.330078  24851.830078  24934.330078  24825.039062  24682.029297   \n",
       "3    24851.830078  24934.330078  24825.039062  24682.029297  24854.109375   \n",
       "4    24934.330078  24825.039062  24682.029297  24854.109375  24772.970703   \n",
       "..            ...           ...           ...           ...           ...   \n",
       "843  39784.519531  39950.460937  39756.808594  39741.359375  39452.070312   \n",
       "844  39950.460937  39756.808594  39741.359375  39452.070312  38960.789062   \n",
       "845  39756.808594  39741.359375  39452.070312  38960.789062  39046.339844   \n",
       "846  39741.359375  39452.070312  38960.789062  39046.339844  39112.738281   \n",
       "847  39452.070312  38960.789062  39046.339844  39112.738281  39601.628906   \n",
       "\n",
       "                5             6             7             8             9  \\\n",
       "0    24825.039062  24682.029297  24854.109375  24772.970703  24455.039062   \n",
       "1    24682.029297  24854.109375  24772.970703  24455.039062  24188.369141   \n",
       "2    24854.109375  24772.970703  24455.039062  24188.369141  24479.839844   \n",
       "3    24772.970703  24455.039062  24188.369141  24479.839844  24062.039063   \n",
       "4    24455.039062  24188.369141  24479.839844  24062.039063  23962.210937   \n",
       "..            ...           ...           ...           ...           ...   \n",
       "843  38960.789062  39046.339844  39112.738281  39601.628906  39194.488281   \n",
       "844  39046.339844  39112.738281  39601.628906  39194.488281  39122.960938   \n",
       "845  39112.738281  39601.628906  39194.488281  39122.960938  39434.941406   \n",
       "846  39601.628906  39194.488281  39122.960938  39434.941406  39592.078125   \n",
       "847  39194.488281  39122.960938  39434.941406  39592.078125  39586.410156   \n",
       "\n",
       "     ...            41            42            43            44  \\\n",
       "0    ...  24242.980469  24606.990234  24646.480469  24659.230469   \n",
       "1    ...  24606.990234  24646.480469  24659.230469  24793.960938   \n",
       "2    ...  24646.480469  24659.230469  24793.960938  24623.339844   \n",
       "3    ...  24659.230469  24793.960938  24623.339844  24717.990234   \n",
       "4    ...  24793.960938  24623.339844  24717.990234  24804.279297   \n",
       "..   ...           ...           ...           ...           ...   \n",
       "843  ...  36976.851562  36690.500000  37327.359375  37581.910156   \n",
       "844  ...  36690.500000  37327.359375  37581.910156  36958.160156   \n",
       "845  ...  37327.359375  37581.910156  36958.160156  37311.531250   \n",
       "846  ...  37581.910156  36958.160156  37311.531250  37350.328125   \n",
       "847  ...  36958.160156  37311.531250  37350.328125  37402.488281   \n",
       "\n",
       "               45            46            47            48            49  \\\n",
       "0    24793.960938  24623.339844  24717.990234  24804.279297  24551.169922   \n",
       "1    24623.339844  24717.990234  24804.279297  24551.169922  24682.480469   \n",
       "2    24717.990234  24804.279297  24551.169922  24682.480469  24677.369141   \n",
       "3    24804.279297  24551.169922  24682.480469  24677.369141  24952.740234   \n",
       "4    24551.169922  24682.480469  24677.369141  24952.740234  25285.369141   \n",
       "..            ...           ...           ...           ...           ...   \n",
       "843  36958.160156  37311.531250  37350.328125  37402.488281  37328.011719   \n",
       "844  37311.531250  37350.328125  37402.488281  37328.011719  37060.371094   \n",
       "845  37350.328125  37402.488281  37328.011719  37060.371094  36472.929688   \n",
       "846  37402.488281  37328.011719  37060.371094  36472.929688  36701.160156   \n",
       "847  37328.011719  37060.371094  36472.929688  36701.160156  37494.121094   \n",
       "\n",
       "           target  \n",
       "0    24682.480469  \n",
       "1    24677.369141  \n",
       "2    24952.740234  \n",
       "3    25285.369141  \n",
       "4    25330.490234  \n",
       "..            ...  \n",
       "843  37060.371094  \n",
       "844  36472.929688  \n",
       "845  36701.160156  \n",
       "846  37494.121094  \n",
       "847  37641.269531  \n",
       "\n",
       "[848 rows x 51 columns]"
      ]
     },
     "execution_count": 41,
     "metadata": {},
     "output_type": "execute_result"
    }
   ],
   "source": [
    "#train dataframe\n",
    "train_df = pd.DataFrame(scaler.inverse_transform(x_train.reshape(-1, 50)), \n",
    "                        index = np.arange(0, len(x_train)))\n",
    "train_df['target'] = scaler.inverse_transform(y_train)\n",
    "train_df"
   ]
  },
  {
   "cell_type": "code",
   "execution_count": 42,
   "id": "5d5d0721",
   "metadata": {},
   "outputs": [
    {
     "data": {
      "text/html": [
       "<div>\n",
       "<style scoped>\n",
       "    .dataframe tbody tr th:only-of-type {\n",
       "        vertical-align: middle;\n",
       "    }\n",
       "\n",
       "    .dataframe tbody tr th {\n",
       "        vertical-align: top;\n",
       "    }\n",
       "\n",
       "    .dataframe thead th {\n",
       "        text-align: right;\n",
       "    }\n",
       "</style>\n",
       "<table border=\"1\" class=\"dataframe\">\n",
       "  <thead>\n",
       "    <tr style=\"text-align: right;\">\n",
       "      <th></th>\n",
       "      <th>0</th>\n",
       "      <th>1</th>\n",
       "      <th>2</th>\n",
       "      <th>3</th>\n",
       "      <th>4</th>\n",
       "      <th>5</th>\n",
       "      <th>6</th>\n",
       "      <th>7</th>\n",
       "      <th>8</th>\n",
       "      <th>9</th>\n",
       "      <th>...</th>\n",
       "      <th>41</th>\n",
       "      <th>42</th>\n",
       "      <th>43</th>\n",
       "      <th>44</th>\n",
       "      <th>45</th>\n",
       "      <th>46</th>\n",
       "      <th>47</th>\n",
       "      <th>48</th>\n",
       "      <th>49</th>\n",
       "      <th>target</th>\n",
       "    </tr>\n",
       "  </thead>\n",
       "  <tbody>\n",
       "    <tr>\n",
       "      <th>848</th>\n",
       "      <td>37451.839844</td>\n",
       "      <td>37068.929688</td>\n",
       "      <td>37332.789062</td>\n",
       "      <td>36562.910156</td>\n",
       "      <td>36724.738281</td>\n",
       "      <td>36644.421875</td>\n",
       "      <td>36981.769531</td>\n",
       "      <td>37145.449219</td>\n",
       "      <td>37270.820312</td>\n",
       "      <td>37104.281250</td>\n",
       "      <td>...</td>\n",
       "      <td>40165.031250</td>\n",
       "      <td>40301.960938</td>\n",
       "      <td>40248.230469</td>\n",
       "      <td>40469.781250</td>\n",
       "      <td>40653.738281</td>\n",
       "      <td>40323.609375</td>\n",
       "      <td>40345.078125</td>\n",
       "      <td>40116.058594</td>\n",
       "      <td>40286.480469</td>\n",
       "      <td>40356.691406</td>\n",
       "    </tr>\n",
       "    <tr>\n",
       "      <th>849</th>\n",
       "      <td>37068.929688</td>\n",
       "      <td>37332.789062</td>\n",
       "      <td>36562.910156</td>\n",
       "      <td>36724.738281</td>\n",
       "      <td>36644.421875</td>\n",
       "      <td>36981.769531</td>\n",
       "      <td>37145.449219</td>\n",
       "      <td>37270.820312</td>\n",
       "      <td>37104.281250</td>\n",
       "      <td>37384.988281</td>\n",
       "      <td>...</td>\n",
       "      <td>40301.960938</td>\n",
       "      <td>40248.230469</td>\n",
       "      <td>40469.781250</td>\n",
       "      <td>40653.738281</td>\n",
       "      <td>40323.609375</td>\n",
       "      <td>40345.078125</td>\n",
       "      <td>40116.058594</td>\n",
       "      <td>40286.480469</td>\n",
       "      <td>40356.691406</td>\n",
       "      <td>40284.191406</td>\n",
       "    </tr>\n",
       "    <tr>\n",
       "      <th>850</th>\n",
       "      <td>37332.789062</td>\n",
       "      <td>36562.910156</td>\n",
       "      <td>36724.738281</td>\n",
       "      <td>36644.421875</td>\n",
       "      <td>36981.769531</td>\n",
       "      <td>37145.449219</td>\n",
       "      <td>37270.820312</td>\n",
       "      <td>37104.281250</td>\n",
       "      <td>37384.988281</td>\n",
       "      <td>37123.308594</td>\n",
       "      <td>...</td>\n",
       "      <td>40248.230469</td>\n",
       "      <td>40469.781250</td>\n",
       "      <td>40653.738281</td>\n",
       "      <td>40323.609375</td>\n",
       "      <td>40345.078125</td>\n",
       "      <td>40116.058594</td>\n",
       "      <td>40286.480469</td>\n",
       "      <td>40356.691406</td>\n",
       "      <td>40284.191406</td>\n",
       "      <td>40469.699219</td>\n",
       "    </tr>\n",
       "    <tr>\n",
       "      <th>851</th>\n",
       "      <td>36562.910156</td>\n",
       "      <td>36724.738281</td>\n",
       "      <td>36644.421875</td>\n",
       "      <td>36981.769531</td>\n",
       "      <td>37145.449219</td>\n",
       "      <td>37270.820312</td>\n",
       "      <td>37104.281250</td>\n",
       "      <td>37384.988281</td>\n",
       "      <td>37123.308594</td>\n",
       "      <td>36481.089844</td>\n",
       "      <td>...</td>\n",
       "      <td>40469.781250</td>\n",
       "      <td>40653.738281</td>\n",
       "      <td>40323.609375</td>\n",
       "      <td>40345.078125</td>\n",
       "      <td>40116.058594</td>\n",
       "      <td>40286.480469</td>\n",
       "      <td>40356.691406</td>\n",
       "      <td>40284.191406</td>\n",
       "      <td>40469.699219</td>\n",
       "      <td>40651.640625</td>\n",
       "    </tr>\n",
       "    <tr>\n",
       "      <th>852</th>\n",
       "      <td>36724.738281</td>\n",
       "      <td>36644.421875</td>\n",
       "      <td>36981.769531</td>\n",
       "      <td>37145.449219</td>\n",
       "      <td>37270.820312</td>\n",
       "      <td>37104.281250</td>\n",
       "      <td>37384.988281</td>\n",
       "      <td>37123.308594</td>\n",
       "      <td>36481.089844</td>\n",
       "      <td>36563.878906</td>\n",
       "      <td>...</td>\n",
       "      <td>40653.738281</td>\n",
       "      <td>40323.609375</td>\n",
       "      <td>40345.078125</td>\n",
       "      <td>40116.058594</td>\n",
       "      <td>40286.480469</td>\n",
       "      <td>40356.691406</td>\n",
       "      <td>40284.191406</td>\n",
       "      <td>40469.699219</td>\n",
       "      <td>40651.640625</td>\n",
       "      <td>40575.171875</td>\n",
       "    </tr>\n",
       "    <tr>\n",
       "      <th>...</th>\n",
       "      <td>...</td>\n",
       "      <td>...</td>\n",
       "      <td>...</td>\n",
       "      <td>...</td>\n",
       "      <td>...</td>\n",
       "      <td>...</td>\n",
       "      <td>...</td>\n",
       "      <td>...</td>\n",
       "      <td>...</td>\n",
       "      <td>...</td>\n",
       "      <td>...</td>\n",
       "      <td>...</td>\n",
       "      <td>...</td>\n",
       "      <td>...</td>\n",
       "      <td>...</td>\n",
       "      <td>...</td>\n",
       "      <td>...</td>\n",
       "      <td>...</td>\n",
       "      <td>...</td>\n",
       "      <td>...</td>\n",
       "      <td>...</td>\n",
       "    </tr>\n",
       "    <tr>\n",
       "      <th>1017</th>\n",
       "      <td>32008.609375</td>\n",
       "      <td>31122.890625</td>\n",
       "      <td>31097.730469</td>\n",
       "      <td>30028.980469</td>\n",
       "      <td>30196.169922</td>\n",
       "      <td>30818.609375</td>\n",
       "      <td>30932.900391</td>\n",
       "      <td>30672.589844</td>\n",
       "      <td>30609.300781</td>\n",
       "      <td>31605.220703</td>\n",
       "      <td>...</td>\n",
       "      <td>36594.328125</td>\n",
       "      <td>36693.691406</td>\n",
       "      <td>36033.058594</td>\n",
       "      <td>36051.808594</td>\n",
       "      <td>36471.679688</td>\n",
       "      <td>37020.140625</td>\n",
       "      <td>37418.988281</td>\n",
       "      <td>37930.328125</td>\n",
       "      <td>37871.519531</td>\n",
       "      <td>38140.468750</td>\n",
       "    </tr>\n",
       "    <tr>\n",
       "      <th>1018</th>\n",
       "      <td>31122.890625</td>\n",
       "      <td>31097.730469</td>\n",
       "      <td>30028.980469</td>\n",
       "      <td>30196.169922</td>\n",
       "      <td>30818.609375</td>\n",
       "      <td>30932.900391</td>\n",
       "      <td>30672.589844</td>\n",
       "      <td>30609.300781</td>\n",
       "      <td>31605.220703</td>\n",
       "      <td>32200.589844</td>\n",
       "      <td>...</td>\n",
       "      <td>36693.691406</td>\n",
       "      <td>36033.058594</td>\n",
       "      <td>36051.808594</td>\n",
       "      <td>36471.679688</td>\n",
       "      <td>37020.140625</td>\n",
       "      <td>37418.988281</td>\n",
       "      <td>37930.328125</td>\n",
       "      <td>37871.519531</td>\n",
       "      <td>38140.468750</td>\n",
       "      <td>38128.898438</td>\n",
       "    </tr>\n",
       "    <tr>\n",
       "      <th>1019</th>\n",
       "      <td>31097.730469</td>\n",
       "      <td>30028.980469</td>\n",
       "      <td>30196.169922</td>\n",
       "      <td>30818.609375</td>\n",
       "      <td>30932.900391</td>\n",
       "      <td>30672.589844</td>\n",
       "      <td>30609.300781</td>\n",
       "      <td>31605.220703</td>\n",
       "      <td>32200.589844</td>\n",
       "      <td>32424.099609</td>\n",
       "      <td>...</td>\n",
       "      <td>36033.058594</td>\n",
       "      <td>36051.808594</td>\n",
       "      <td>36471.679688</td>\n",
       "      <td>37020.140625</td>\n",
       "      <td>37418.988281</td>\n",
       "      <td>37930.328125</td>\n",
       "      <td>37871.519531</td>\n",
       "      <td>38140.468750</td>\n",
       "      <td>38128.898438</td>\n",
       "      <td>37934.730469</td>\n",
       "    </tr>\n",
       "    <tr>\n",
       "      <th>1020</th>\n",
       "      <td>30028.980469</td>\n",
       "      <td>30196.169922</td>\n",
       "      <td>30818.609375</td>\n",
       "      <td>30932.900391</td>\n",
       "      <td>30672.589844</td>\n",
       "      <td>30609.300781</td>\n",
       "      <td>31605.220703</td>\n",
       "      <td>32200.589844</td>\n",
       "      <td>32424.099609</td>\n",
       "      <td>33303.519531</td>\n",
       "      <td>...</td>\n",
       "      <td>36051.808594</td>\n",
       "      <td>36471.679688</td>\n",
       "      <td>37020.140625</td>\n",
       "      <td>37418.988281</td>\n",
       "      <td>37930.328125</td>\n",
       "      <td>37871.519531</td>\n",
       "      <td>38140.468750</td>\n",
       "      <td>38128.898438</td>\n",
       "      <td>37934.730469</td>\n",
       "      <td>38492.949219</td>\n",
       "    </tr>\n",
       "    <tr>\n",
       "      <th>1021</th>\n",
       "      <td>30196.169922</td>\n",
       "      <td>30818.609375</td>\n",
       "      <td>30932.900391</td>\n",
       "      <td>30672.589844</td>\n",
       "      <td>30609.300781</td>\n",
       "      <td>31605.220703</td>\n",
       "      <td>32200.589844</td>\n",
       "      <td>32424.099609</td>\n",
       "      <td>33303.519531</td>\n",
       "      <td>33825.531250</td>\n",
       "      <td>...</td>\n",
       "      <td>36471.679688</td>\n",
       "      <td>37020.140625</td>\n",
       "      <td>37418.988281</td>\n",
       "      <td>37930.328125</td>\n",
       "      <td>37871.519531</td>\n",
       "      <td>38140.468750</td>\n",
       "      <td>38128.898438</td>\n",
       "      <td>37934.730469</td>\n",
       "      <td>38492.949219</td>\n",
       "      <td>38071.128906</td>\n",
       "    </tr>\n",
       "  </tbody>\n",
       "</table>\n",
       "<p>174 rows × 51 columns</p>\n",
       "</div>"
      ],
      "text/plain": [
       "                 0             1             2             3             4  \\\n",
       "848   37451.839844  37068.929688  37332.789062  36562.910156  36724.738281   \n",
       "849   37068.929688  37332.789062  36562.910156  36724.738281  36644.421875   \n",
       "850   37332.789062  36562.910156  36724.738281  36644.421875  36981.769531   \n",
       "851   36562.910156  36724.738281  36644.421875  36981.769531  37145.449219   \n",
       "852   36724.738281  36644.421875  36981.769531  37145.449219  37270.820312   \n",
       "...            ...           ...           ...           ...           ...   \n",
       "1017  32008.609375  31122.890625  31097.730469  30028.980469  30196.169922   \n",
       "1018  31122.890625  31097.730469  30028.980469  30196.169922  30818.609375   \n",
       "1019  31097.730469  30028.980469  30196.169922  30818.609375  30932.900391   \n",
       "1020  30028.980469  30196.169922  30818.609375  30932.900391  30672.589844   \n",
       "1021  30196.169922  30818.609375  30932.900391  30672.589844  30609.300781   \n",
       "\n",
       "                 5             6             7             8             9  \\\n",
       "848   36644.421875  36981.769531  37145.449219  37270.820312  37104.281250   \n",
       "849   36981.769531  37145.449219  37270.820312  37104.281250  37384.988281   \n",
       "850   37145.449219  37270.820312  37104.281250  37384.988281  37123.308594   \n",
       "851   37270.820312  37104.281250  37384.988281  37123.308594  36481.089844   \n",
       "852   37104.281250  37384.988281  37123.308594  36481.089844  36563.878906   \n",
       "...            ...           ...           ...           ...           ...   \n",
       "1017  30818.609375  30932.900391  30672.589844  30609.300781  31605.220703   \n",
       "1018  30932.900391  30672.589844  30609.300781  31605.220703  32200.589844   \n",
       "1019  30672.589844  30609.300781  31605.220703  32200.589844  32424.099609   \n",
       "1020  30609.300781  31605.220703  32200.589844  32424.099609  33303.519531   \n",
       "1021  31605.220703  32200.589844  32424.099609  33303.519531  33825.531250   \n",
       "\n",
       "      ...            41            42            43            44  \\\n",
       "848   ...  40165.031250  40301.960938  40248.230469  40469.781250   \n",
       "849   ...  40301.960938  40248.230469  40469.781250  40653.738281   \n",
       "850   ...  40248.230469  40469.781250  40653.738281  40323.609375   \n",
       "851   ...  40469.781250  40653.738281  40323.609375  40345.078125   \n",
       "852   ...  40653.738281  40323.609375  40345.078125  40116.058594   \n",
       "...   ...           ...           ...           ...           ...   \n",
       "1017  ...  36594.328125  36693.691406  36033.058594  36051.808594   \n",
       "1018  ...  36693.691406  36033.058594  36051.808594  36471.679688   \n",
       "1019  ...  36033.058594  36051.808594  36471.679688  37020.140625   \n",
       "1020  ...  36051.808594  36471.679688  37020.140625  37418.988281   \n",
       "1021  ...  36471.679688  37020.140625  37418.988281  37930.328125   \n",
       "\n",
       "                45            46            47            48            49  \\\n",
       "848   40653.738281  40323.609375  40345.078125  40116.058594  40286.480469   \n",
       "849   40323.609375  40345.078125  40116.058594  40286.480469  40356.691406   \n",
       "850   40345.078125  40116.058594  40286.480469  40356.691406  40284.191406   \n",
       "851   40116.058594  40286.480469  40356.691406  40284.191406  40469.699219   \n",
       "852   40286.480469  40356.691406  40284.191406  40469.699219  40651.640625   \n",
       "...            ...           ...           ...           ...           ...   \n",
       "1017  36471.679688  37020.140625  37418.988281  37930.328125  37871.519531   \n",
       "1018  37020.140625  37418.988281  37930.328125  37871.519531  38140.468750   \n",
       "1019  37418.988281  37930.328125  37871.519531  38140.468750  38128.898438   \n",
       "1020  37930.328125  37871.519531  38140.468750  38128.898438  37934.730469   \n",
       "1021  37871.519531  38140.468750  38128.898438  37934.730469  38492.949219   \n",
       "\n",
       "            target  \n",
       "848   40356.691406  \n",
       "849   40284.191406  \n",
       "850   40469.699219  \n",
       "851   40651.640625  \n",
       "852   40575.171875  \n",
       "...            ...  \n",
       "1017  38140.468750  \n",
       "1018  38128.898438  \n",
       "1019  37934.730469  \n",
       "1020  38492.949219  \n",
       "1021  38071.128906  \n",
       "\n",
       "[174 rows x 51 columns]"
      ]
     },
     "execution_count": 42,
     "metadata": {},
     "output_type": "execute_result"
    }
   ],
   "source": [
    "#test dataframe\n",
    "test_df = pd.DataFrame(scaler.inverse_transform(x_test.reshape(-1, 50)),\n",
    "                       index = np.arange(len(x_train), len(x_train) + len(x_test)))\n",
    "test_df['target'] = scaler.inverse_transform(y_test)\n",
    "test_df"
   ]
  },
  {
   "cell_type": "markdown",
   "id": "d4a3a6f3",
   "metadata": {},
   "source": [
    "# Model Building :"
   ]
  },
  {
   "cell_type": "code",
   "execution_count": 43,
   "id": "9aae37e7",
   "metadata": {},
   "outputs": [],
   "source": [
    "import tensorflow as tf\n",
    "from tensorflow import keras\n",
    "import keras_tuner\n",
    "\n",
    "from sklearn.metrics import mean_absolute_error\n",
    "from sklearn.metrics import mean_squared_error\n",
    "from sklearn.metrics import r2_score"
   ]
  },
  {
   "cell_type": "code",
   "execution_count": 44,
   "id": "aa867fd1",
   "metadata": {},
   "outputs": [
    {
     "name": "stdout",
     "output_type": "stream",
     "text": [
      "Model: \"sequential\"\n",
      "_________________________________________________________________\n",
      " Layer (type)                Output Shape              Param #   \n",
      "=================================================================\n",
      " lstm (LSTM)                 (None, 50, 384)           592896    \n",
      "                                                                 \n",
      " lstm_1 (LSTM)               (None, 50, 384)           1181184   \n",
      "                                                                 \n",
      " lstm_2 (LSTM)               (None, 50, 384)           1181184   \n",
      "                                                                 \n",
      " lstm_3 (LSTM)               (None, 384)               1181184   \n",
      "                                                                 \n",
      " dense (Dense)               (None, 1)                 385       \n",
      "                                                                 \n",
      "=================================================================\n",
      "Total params: 4,136,833\n",
      "Trainable params: 4,136,833\n",
      "Non-trainable params: 0\n",
      "_________________________________________________________________\n"
     ]
    }
   ],
   "source": [
    "model = keras.Sequential()\n",
    "\n",
    "model.add(keras.layers.LSTM(units = 384, return_sequences = True, input_shape = (x_train.shape[1],1)))\n",
    "model.add(keras.layers.LSTM(units = 384, return_sequences = True))\n",
    "model.add(keras.layers.LSTM(units = 384, return_sequences = True))\n",
    "model.add(keras.layers.LSTM(units = 384, return_sequences = False))\n",
    "model.add(keras.layers.Dense(units = 1, activation = \"sigmoid\"))\n",
    "model.summary()"
   ]
  },
  {
   "cell_type": "code",
   "execution_count": 45,
   "id": "7d600661",
   "metadata": {},
   "outputs": [
    {
     "name": "stdout",
     "output_type": "stream",
     "text": [
      "Epoch 1/30\n",
      "27/27 [==============================] - 27s 813ms/step - loss: 0.0217 - val_loss: 0.0231\n",
      "Epoch 2/30\n",
      "27/27 [==============================] - 21s 771ms/step - loss: 0.0021 - val_loss: 0.0179\n",
      "Epoch 3/30\n",
      "27/27 [==============================] - 21s 784ms/step - loss: 0.0016 - val_loss: 0.0147\n",
      "Epoch 4/30\n",
      "27/27 [==============================] - 21s 790ms/step - loss: 0.0015 - val_loss: 0.0121\n",
      "Epoch 5/30\n",
      "27/27 [==============================] - 21s 784ms/step - loss: 0.0012 - val_loss: 0.0103\n",
      "Epoch 6/30\n",
      "27/27 [==============================] - 21s 780ms/step - loss: 0.0012 - val_loss: 0.0093\n",
      "Epoch 7/30\n",
      "27/27 [==============================] - 21s 781ms/step - loss: 0.0010 - val_loss: 0.0083\n",
      "Epoch 8/30\n",
      "27/27 [==============================] - 21s 787ms/step - loss: 0.0010 - val_loss: 0.0082\n",
      "Epoch 9/30\n",
      "27/27 [==============================] - 21s 785ms/step - loss: 0.0012 - val_loss: 0.0089\n",
      "Epoch 10/30\n",
      "27/27 [==============================] - 21s 777ms/step - loss: 0.0013 - val_loss: 0.0088\n",
      "Epoch 11/30\n",
      "27/27 [==============================] - 21s 792ms/step - loss: 9.7909e-04 - val_loss: 0.0062\n",
      "Epoch 12/30\n",
      "27/27 [==============================] - 21s 787ms/step - loss: 9.1924e-04 - val_loss: 0.0070\n",
      "Epoch 13/30\n",
      "27/27 [==============================] - 21s 778ms/step - loss: 7.6917e-04 - val_loss: 0.0052\n",
      "Epoch 14/30\n",
      "27/27 [==============================] - 21s 783ms/step - loss: 7.4333e-04 - val_loss: 0.0048\n",
      "Epoch 15/30\n",
      "27/27 [==============================] - 21s 780ms/step - loss: 6.8405e-04 - val_loss: 0.0053\n",
      "Epoch 16/30\n",
      "27/27 [==============================] - 21s 778ms/step - loss: 6.5125e-04 - val_loss: 0.0047\n",
      "Epoch 17/30\n",
      "27/27 [==============================] - 21s 783ms/step - loss: 7.6777e-04 - val_loss: 0.0043\n",
      "Epoch 18/30\n",
      "27/27 [==============================] - 21s 780ms/step - loss: 8.6332e-04 - val_loss: 0.0041\n",
      "Epoch 19/30\n",
      "27/27 [==============================] - 21s 784ms/step - loss: 5.7612e-04 - val_loss: 0.0035\n",
      "Epoch 20/30\n",
      "27/27 [==============================] - 21s 788ms/step - loss: 8.2357e-04 - val_loss: 0.0051\n",
      "Epoch 21/30\n",
      "27/27 [==============================] - 21s 778ms/step - loss: 7.2644e-04 - val_loss: 0.0037\n",
      "Epoch 22/30\n",
      "27/27 [==============================] - 21s 777ms/step - loss: 6.9962e-04 - val_loss: 0.0037\n",
      "Epoch 23/30\n",
      "27/27 [==============================] - 21s 782ms/step - loss: 5.9238e-04 - val_loss: 0.0039\n",
      "Epoch 24/30\n",
      "27/27 [==============================] - 21s 779ms/step - loss: 4.9796e-04 - val_loss: 0.0028\n",
      "Epoch 25/30\n",
      "27/27 [==============================] - 21s 793ms/step - loss: 4.5704e-04 - val_loss: 0.0027\n",
      "Epoch 26/30\n",
      "27/27 [==============================] - 21s 786ms/step - loss: 5.6235e-04 - val_loss: 0.0040\n",
      "Epoch 27/30\n",
      "27/27 [==============================] - 21s 785ms/step - loss: 4.8426e-04 - val_loss: 0.0036\n",
      "Epoch 28/30\n",
      "27/27 [==============================] - 21s 778ms/step - loss: 5.4390e-04 - val_loss: 0.0025\n",
      "Epoch 29/30\n",
      "27/27 [==============================] - 22s 812ms/step - loss: 3.9364e-04 - val_loss: 0.0024\n",
      "Epoch 30/30\n",
      "27/27 [==============================] - 21s 790ms/step - loss: 3.8431e-04 - val_loss: 0.0023\n"
     ]
    }
   ],
   "source": [
    "model.compile(optimizer = 'adam', loss = 'mse')\n",
    "callback_chk = keras.callbacks.ModelCheckpoint(filepath = 'best_model.h5', save_best_only = True)\n",
    "model_history = model.fit(x_train, y_train, epochs = 30, validation_data = (x_test, y_test), callbacks = [callback_chk])"
   ]
  },
  {
   "cell_type": "code",
   "execution_count": 46,
   "id": "906efb35",
   "metadata": {},
   "outputs": [],
   "source": [
    "model = keras.models.load_model('best_model.h5')"
   ]
  },
  {
   "cell_type": "code",
   "execution_count": 47,
   "id": "db95bd16",
   "metadata": {},
   "outputs": [
    {
     "data": {
      "text/plain": [
       "<matplotlib.legend.Legend at 0x21ca3d9c9a0>"
      ]
     },
     "execution_count": 47,
     "metadata": {},
     "output_type": "execute_result"
    },
    {
     "data": {
      "image/png": "[encoded data removed]",
      "text/plain": [
       "<Figure size 640x480 with 1 Axes>"
      ]
     },
     "metadata": {},
     "output_type": "display_data"
    }
   ],
   "source": [
    "#Plotting the losses\n",
    "\n",
    "loss = model_history.history['loss']\n",
    "val_loss = model_history.history['val_loss']\n",
    "index = np.arange(30)\n",
    "\n",
    "sns.lineplot(x = index, y = loss)\n",
    "sns.lineplot(x = index, y = val_loss)\n",
    "plt.ylabel('loss')\n",
    "plt.xlabel('iterations')\n",
    "plt.legend(['training loss','validation loss'])"
   ]
  },
  {
   "cell_type": "code",
   "execution_count": 48,
   "id": "b6b331fd",
   "metadata": {},
   "outputs": [
    {
     "name": "stdout",
     "output_type": "stream",
     "text": [
      "6/6 [==============================] - 2s 213ms/step\n"
     ]
    }
   ],
   "source": [
    "#predicting on test data\n",
    "pred_test = model.predict(x_test)"
   ]
  },
  {
   "cell_type": "code",
   "execution_count": 49,
   "id": "11fb4c4c",
   "metadata": {},
   "outputs": [],
   "source": [
    "#inverse transformation on predictions and actual value\n",
    "\n",
    "preds_inv = scaler.inverse_transform(pred_test)\n",
    "y_test_inv = scaler.inverse_transform(y_test)"
   ]
  },
  {
   "cell_type": "markdown",
   "id": "2eeb06e5",
   "metadata": {},
   "source": [
    "**Model Evaluation :**"
   ]
  },
  {
   "cell_type": "code",
   "execution_count": 50,
   "id": "079faf4a",
   "metadata": {},
   "outputs": [
    {
     "name": "stdout",
     "output_type": "stream",
     "text": [
      "MSE :  841956.7103688691\n",
      "RMSE :  917.5819910879186\n"
     ]
    }
   ],
   "source": [
    "print('MSE : ', mean_squared_error(y_test_inv, preds_inv), end='\\n')\n",
    "print('RMSE : ', np.sqrt(mean_squared_error(y_test_inv, preds_inv)))"
   ]
  },
  {
   "cell_type": "code",
   "execution_count": 51,
   "id": "c4f04757",
   "metadata": {},
   "outputs": [
    {
     "name": "stdout",
     "output_type": "stream",
     "text": [
      "0.958094789228657\n"
     ]
    }
   ],
   "source": [
    "R2_score = r2_score(y_test_inv, preds_inv)\n",
    "print(R2_score)"
   ]
  },
  {
   "cell_type": "code",
   "execution_count": 52,
   "id": "892ed99f",
   "metadata": {},
   "outputs": [
    {
     "data": {
      "image/png": "[encoded data removed]",
      "text/plain": [
       "<Figure size 640x480 with 1 Axes>"
      ]
     },
     "metadata": {},
     "output_type": "display_data"
    }
   ],
   "source": [
    "plt.plot(preds_inv)\n",
    "plt.plot(y_test_inv)\n",
    "\n",
    "plt.legend(['predictions','actual'])\n",
    "plt.xlabel('indices')\n",
    "plt.ylabel('Closing price')\n",
    "plt.show()"
   ]
  },
  {
   "cell_type": "code",
   "execution_count": 55,
   "id": "4e082466",
   "metadata": {},
   "outputs": [],
   "source": [
    "news_df.drop_duplicates(inplace = True)"
   ]
  },
  {
   "cell_type": "code",
   "execution_count": 56,
   "id": "eab1f061",
   "metadata": {},
   "outputs": [],
   "source": [
    "news_df.reset_index(inplace = True)"
   ]
  },
  {
   "cell_type": "code",
   "execution_count": 57,
   "id": "a098ce31",
   "metadata": {},
   "outputs": [],
   "source": [
    "news_df.drop(columns = 'index', inplace = True)"
   ]
  },
  {
   "cell_type": "code",
   "execution_count": 59,
   "id": "6647b98d",
   "metadata": {},
   "outputs": [],
   "source": [
    "df_final = pd.merge(news_df, bse_df, on = \"Date\", how = 'right')"
   ]
  },
  {
   "cell_type": "code",
   "execution_count": 60,
   "id": "16ed03cb",
   "metadata": {},
   "outputs": [
    {
     "data": {
      "text/html": [
       "<div>\n",
       "<style scoped>\n",
       "    .dataframe tbody tr th:only-of-type {\n",
       "        vertical-align: middle;\n",
       "    }\n",
       "\n",
       "    .dataframe tbody tr th {\n",
       "        vertical-align: top;\n",
       "    }\n",
       "\n",
       "    .dataframe thead th {\n",
       "        text-align: right;\n",
       "    }\n",
       "</style>\n",
       "<table border=\"1\" class=\"dataframe\">\n",
       "  <thead>\n",
       "    <tr style=\"text-align: right;\">\n",
       "      <th></th>\n",
       "      <th>headline_category</th>\n",
       "      <th>headline_text</th>\n",
       "      <th>Date</th>\n",
       "      <th>polarity</th>\n",
       "      <th>subjectivity</th>\n",
       "      <th>Compound</th>\n",
       "      <th>Negative</th>\n",
       "      <th>Neutral</th>\n",
       "      <th>Positive</th>\n",
       "      <th>Close</th>\n",
       "    </tr>\n",
       "  </thead>\n",
       "  <tbody>\n",
       "    <tr>\n",
       "      <th>0</th>\n",
       "      <td>life style health fitness fitness</td>\n",
       "      <td>Surprising facts about exercise sweat</td>\n",
       "      <td>2016-01-04</td>\n",
       "      <td>0.700000</td>\n",
       "      <td>0.5</td>\n",
       "      <td>0.2732</td>\n",
       "      <td>0.000</td>\n",
       "      <td>0.656</td>\n",
       "      <td>0.344</td>\n",
       "      <td>25623.349609</td>\n",
       "    </tr>\n",
       "    <tr>\n",
       "      <th>1</th>\n",
       "      <td>life style health fitness home remedies</td>\n",
       "      <td>Bizarre home remedies for the common cold</td>\n",
       "      <td>2016-01-04</td>\n",
       "      <td>-0.166667</td>\n",
       "      <td>0.7</td>\n",
       "      <td>-0.3182</td>\n",
       "      <td>0.277</td>\n",
       "      <td>0.723</td>\n",
       "      <td>0.000</td>\n",
       "      <td>25623.349609</td>\n",
       "    </tr>\n",
       "    <tr>\n",
       "      <th>2</th>\n",
       "      <td>life style beauty</td>\n",
       "      <td>How to wear makeup when you're</td>\n",
       "      <td>2016-01-04</td>\n",
       "      <td>0.000000</td>\n",
       "      <td>0.0</td>\n",
       "      <td>0.0000</td>\n",
       "      <td>0.000</td>\n",
       "      <td>1.000</td>\n",
       "      <td>0.000</td>\n",
       "      <td>25623.349609</td>\n",
       "    </tr>\n",
       "    <tr>\n",
       "      <th>3</th>\n",
       "      <td>life style relationships parenting</td>\n",
       "      <td>What's your style</td>\n",
       "      <td>2016-01-04</td>\n",
       "      <td>0.000000</td>\n",
       "      <td>0.0</td>\n",
       "      <td>0.0000</td>\n",
       "      <td>0.000</td>\n",
       "      <td>1.000</td>\n",
       "      <td>0.000</td>\n",
       "      <td>25623.349609</td>\n",
       "    </tr>\n",
       "    <tr>\n",
       "      <th>4</th>\n",
       "      <td>life style relationships man woman</td>\n",
       "      <td>Bizarre reasons Indians cite for divorce</td>\n",
       "      <td>2016-01-04</td>\n",
       "      <td>0.400000</td>\n",
       "      <td>0.6</td>\n",
       "      <td>-0.3182</td>\n",
       "      <td>0.315</td>\n",
       "      <td>0.685</td>\n",
       "      <td>0.000</td>\n",
       "      <td>25623.349609</td>\n",
       "    </tr>\n",
       "  </tbody>\n",
       "</table>\n",
       "</div>"
      ],
      "text/plain": [
       "                         headline_category  \\\n",
       "0        life style health fitness fitness   \n",
       "1  life style health fitness home remedies   \n",
       "2                        life style beauty   \n",
       "3       life style relationships parenting   \n",
       "4       life style relationships man woman   \n",
       "\n",
       "                               headline_text       Date  polarity  \\\n",
       "0      Surprising facts about exercise sweat 2016-01-04  0.700000   \n",
       "1  Bizarre home remedies for the common cold 2016-01-04 -0.166667   \n",
       "2          How to wear makeup when you're    2016-01-04  0.000000   \n",
       "3                         What's your style  2016-01-04  0.000000   \n",
       "4   Bizarre reasons Indians cite for divorce 2016-01-04  0.400000   \n",
       "\n",
       "   subjectivity  Compound  Negative  Neutral  Positive         Close  \n",
       "0           0.5    0.2732     0.000    0.656     0.344  25623.349609  \n",
       "1           0.7   -0.3182     0.277    0.723     0.000  25623.349609  \n",
       "2           0.0    0.0000     0.000    1.000     0.000  25623.349609  \n",
       "3           0.0    0.0000     0.000    1.000     0.000  25623.349609  \n",
       "4           0.6   -0.3182     0.315    0.685     0.000  25623.349609  "
      ]
     },
     "execution_count": 60,
     "metadata": {},
     "output_type": "execute_result"
    }
   ],
   "source": [
    "df_final.head()"
   ]
  },
  {
   "cell_type": "code",
   "execution_count": 69,
   "id": "6a82eeaf",
   "metadata": {},
   "outputs": [
    {
     "data": {
      "text/plain": [
       "<AxesSubplot:>"
      ]
     },
     "execution_count": 69,
     "metadata": {},
     "output_type": "execute_result"
    },
    {
     "data": {
      "image/png": "[encoded data removed]",
      "text/plain": [
       "<Figure size 640x480 with 2 Axes>"
      ]
     },
     "metadata": {},
     "output_type": "display_data"
    }
   ],
   "source": [
    "# Plotting Correlation  Matrix\n",
    "\n",
    "corr_data = df_final[['Positive','Negative','Neutral','Close']].corr()\n",
    "sns.heatmap(corr_data, annot = True)"
   ]
  },
  {
   "cell_type": "markdown",
   "id": "22a98c58",
   "metadata": {},
   "source": [
    "**Observation :**\n",
    "\n",
    "\n",
    "- The sentiment of news headlines tends to have an inverse relationship with stock prices, showing a negative correlation."
   ]
  },
  {
   "cell_type": "code",
   "execution_count": null,
   "id": "812be1f2",
   "metadata": {},
   "outputs": [],
   "source": []
  }
 ],
 "metadata": {
  "kernelspec": {
   "display_name": "Python 3 (ipykernel)",
   "language": "python",
   "name": "python3"
  },
  "language_info": {
   "codemirror_mode": {
    "name": "ipython",
    "version": 3
   },
   "file_extension": ".py",
   "mimetype": "text/x-python",
   "name": "python",
   "nbconvert_exporter": "python",
   "pygments_lexer": "ipython3",
   "version": "3.11.5"
  }
 },
 "nbformat": 4,
 "nbformat_minor": 5
}
